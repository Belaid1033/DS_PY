{
 "cells": [
  {
   "cell_type": "markdown",
   "metadata": {},
   "source": [
    "# I-Partie1"
   ]
  },
  {
   "cell_type": "markdown",
   "metadata": {},
   "source": [
    "1) Importation des bibliothèques :"
   ]
  },
  {
   "cell_type": "code",
   "execution_count": null,
   "metadata": {},
   "outputs": [],
   "source": [
    "import random\n",
    "import tkinter as tk\n"
   ]
  },
  {
   "cell_type": "markdown",
   "metadata": {},
   "source": [
    "2) Définition de la classe Grid :\n",
    "\n",
    "Cette classe représente une grille de cases noires et blanches. Elle possède les attributs rows et cols pour définir le nombre de lignes et de colonnes de la grille, ainsi qu'un tableau grid pour stocker l'état de chaque cellule.\n",
    "Les méthodes incluent :\n",
    "__init__(self, rows, cols): Initialise la grille avec des cellules blanches.\n",
    "generate_random_black_cells(self, num_black_cells): Génère un nombre spécifié de cellules noires de manière aléatoire.\n",
    "is_black(self, row, col): Vérifie si une cellule est noire.\n",
    "is_white(self, row, col): Vérifie si une cellule est blanche.\n",
    "set_black(self, row, col): Définit une cellule comme noire.\n",
    "set_white(self, row, col): Définit une cellule comme blanche.\n",
    "display_grid(self): Affiche la grille dans la console."
   ]
  },
  {
   "cell_type": "code",
   "execution_count": null,
   "metadata": {},
   "outputs": [],
   "source": [
    "class Grid:\n",
    "    def __init__(self, rows, cols):\n",
    "        self.rows = rows\n",
    "        self.cols = cols\n",
    "        self.grid = [[0 for _ in range(cols)] for _ in range(rows)]  # Initialize grid with all white cells\n",
    "\n",
    "    def generate_random_black_cells(self, num_black_cells):\n",
    "        black_cells = random.sample([(r, c) for r in range(self.rows) for c in range(self.cols)], num_black_cells)\n",
    "        for cell in black_cells:\n",
    "            self.grid[cell[0]][cell[1]] = 1\n",
    "\n",
    "    def is_black(self, row, col):\n",
    "        return self.grid[row][col] == 1\n",
    "\n",
    "    def is_white(self, row, col):\n",
    "        return self.grid[row][col] == 0\n",
    "\n",
    "    def set_black(self, row, col):\n",
    "        self.grid[row][col] = 1\n",
    "\n",
    "    def set_white(self, row, col):\n",
    "        self.grid[row][col] = 0\n",
    "\n",
    "    def display_grid(self):\n",
    "        for row in self.grid:\n",
    "            print(\" \".join(map(str, row)))\n"
   ]
  },
  {
   "cell_type": "markdown",
   "metadata": {},
   "source": [
    "3) Exemple d'utilisation de la classe Grid :\n",
    "    Crée une instance de la classe Grid, génère des cellules noires aléatoires et affiche la grille dans la console."
   ]
  },
  {
   "cell_type": "code",
   "execution_count": null,
   "metadata": {},
   "outputs": [],
   "source": [
    "rows = 10\n",
    "cols = 10\n",
    "num_black_cells = 30\n",
    "\n",
    "grid = Grid(rows, cols)\n",
    "grid.generate_random_black_cells(num_black_cells)\n",
    "grid.display_grid()\n"
   ]
  }
 ],
 "metadata": {
  "kernelspec": {
   "display_name": "Python 3",
   "language": "python",
   "name": "python3"
  },
  "language_info": {
   "name": "python",
   "version": "3.12.2"
  }
 },
 "nbformat": 4,
 "nbformat_minor": 2
}
