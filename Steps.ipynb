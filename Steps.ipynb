{
 "cells": [
  {
   "cell_type": "markdown",
   "metadata": {},
   "source": [
    "# Partie **1**\n",
    "\n",
    "Pour modéliser informatiquement une grille composée de cellules noires et blanches, plusieurs approches sont possibles. Dans le code fourni, une approche utilisant une liste de listes est adoptée, ce qui est communément utilisé pour représenter des grilles bidimensionnelles. Voici une justification des choix faits dans ce modèle :\n",
    "\n",
    "1. **Liste de listes** :\n",
    "   - La grille est représentée par une liste de listes, où chaque sous-liste représente une ligne de la grille. Cette structure de données permet un accès rapide aux éléments de la grille, car l'accès à un élément spécifique se fait en utilisant l'indice de ligne et l'indice de colonne.\n",
    "   - Les listes sont des structures de données flexibles en Python, ce qui permet de créer une grille de taille dynamique, adaptée à différentes configurations de lignes et de colonnes.\n",
    "\n",
    "2. **Valeurs binaires pour représenter les cellules noires et blanches** :\n",
    "   - Les cellules de la grille sont représentées par des valeurs binaires : 0 pour les cellules blanches et 1 pour les cellules noires. Cette représentation simple permet de vérifier rapidement l'état d'une cellule (noire ou blanche) en accédant à la valeur correspondante dans la grille.\n",
    "   - Les valeurs binaires occupent peu d'espace mémoire et sont efficaces pour le stockage des états des cellules dans une grille.\n",
    "\n",
    "3. **Utilisation des méthodes dans la classe Grid** :\n",
    "   - Les méthodes définies dans la classe `Grid` permettent de manipuler la grille de manière cohérente et sûre. Par exemple, les méthodes `is_black`, `is_white`, `set_black`, et `set_white` fournissent des moyens simples pour vérifier et modifier l'état des cellules.\n",
    "   - La méthode `generate_random_black_cells` permet de générer des cellules noires aléatoires, ce qui ajoute de la flexibilité à la classe pour créer des configurations de grille variées.\n",
    "\n",
    "4. **Adaptabilité à l'affichage graphique** :\n",
    "   - Bien que la classe `Grid` soit conçue pour fonctionner principalement avec une interface console, elle est également compatible avec une représentation graphique. En effet, la classe `GridGUI` utilise la même grille pour afficher la grille graphiquement à l'aide de Tkinter.\n",
    "   - Cette compatibilité garantit une cohérence entre la représentation interne de la grille et sa représentation graphique, ce qui simplifie le processus de développement et de maintenance du code.\n",
    "\n",
    "En résumé, le modèle choisi pour représenter la grille avec une liste de listes et des valeurs binaires offre une approche simple, efficace et adaptable pour modéliser informatiquement une grille composée de cellules noires et blanches."
   ]
  },
  {
   "cell_type": "markdown",
   "metadata": {},
   "source": [
    "**1** Importation des bibliothèques :"
   ]
  },
  {
   "cell_type": "code",
   "execution_count": null,
   "metadata": {},
   "outputs": [],
   "source": [
    "import random\n",
    "import tkinter as tk\n"
   ]
  },
  {
   "cell_type": "markdown",
   "metadata": {},
   "source": [
    "**2** Définition de la classe Grid :\n",
    "\n",
    "Cette classe représente une grille de cases noires et blanches. Elle possède les attributs rows et cols pour définir le nombre de lignes et de colonnes de la grille, ainsi qu'un tableau grid pour stocker l'état de chaque cellule.\n",
    "Les méthodes incluent :\n",
    "__init__(self, rows, cols): Initialise la grille avec des cellules blanches.\n",
    "generate_random_black_cells(self, num_black_cells): Génère un nombre spécifié de cellules noires de manière aléatoire.\n",
    "is_black(self, row, col): Vérifie si une cellule est noire.\n",
    "is_white(self, row, col): Vérifie si une cellule est blanche.\n",
    "set_black(self, row, col): Définit une cellule comme noire.\n",
    "set_white(self, row, col): Définit une cellule comme blanche.\n",
    "display_grid(self): Affiche la grille dans la console."
   ]
  },
  {
   "cell_type": "code",
   "execution_count": null,
   "metadata": {},
   "outputs": [],
   "source": [
    "class Grid:\n",
    "    def __init__(self, rows, cols):\n",
    "        self.rows = rows\n",
    "        self.cols = cols\n",
    "        self.grid = [[0 for i in range(cols)] for i in range(rows)]  # Initialize grid with all white cells\n",
    "\n",
    "    def generate_random_black_cells(self, num_black_cells):\n",
    "        black_cells = random.sample([(r, c) for r in range(self.rows) for c in range(self.cols)], num_black_cells)\n",
    "        for cell in black_cells:\n",
    "            self.grid[cell[0]][cell[1]] = 1\n",
    "\n",
    "    def is_black(self, row, col):\n",
    "        return self.grid[row][col] == 1\n",
    "\n",
    "    def is_white(self, row, col):\n",
    "        return self.grid[row][col] == 0\n",
    "\n",
    "    def set_black(self, row, col):\n",
    "        self.grid[row][col] = 1\n",
    "\n",
    "    def set_white(self, row, col):\n",
    "        self.grid[row][col] = 0\n",
    "\n",
    "    def display_grid(self):\n",
    "        for row in self.grid:\n",
    "            print(\" \".join(map(str, row)))\n"
   ]
  },
  {
   "cell_type": "markdown",
   "metadata": {},
   "source": [
    "**3** Exemple d'utilisation de la classe Grid :\n",
    "    Crée une instance de la classe Grid, génère des cellules noires aléatoires et affiche la grille dans la console."
   ]
  },
  {
   "cell_type": "code",
   "execution_count": null,
   "metadata": {},
   "outputs": [],
   "source": [
    "rows = 10\n",
    "cols = 10\n",
    "num_black_cells = 30\n",
    "\n",
    "grid = Grid(rows, cols)\n",
    "grid.generate_random_black_cells(num_black_cells)\n",
    "grid.display_grid()\n"
   ]
  },
  {
   "cell_type": "markdown",
   "metadata": {},
   "source": [
    "**4** Définition de la classe GridGUI :\n",
    "\n",
    "Cette classe est utilisée pour représenter la grille graphiquement à l'aide de Tkinter. Elle crée une fenêtre et un canevas pour dessiner la grille.\n",
    "La méthode draw_grid est utilisée pour dessiner la grille sur le canevas."
   ]
  },
  {
   "cell_type": "code",
   "execution_count": null,
   "metadata": {},
   "outputs": [],
   "source": [
    "class GridGUI:\n",
    "    def __init__(self, master, grid):\n",
    "        self.master = master\n",
    "        self.grid = grid\n",
    "        self.canvas = tk.Canvas(master, width=cols*30, height=rows*30)\n",
    "        self.canvas.pack()\n",
    "\n",
    "    def draw_grid(self):\n",
    "        for row in range(rows):\n",
    "            for col in range(cols):\n",
    "                x1, y1 = col*30, row*30\n",
    "                x2, y2 = x1 + 30, y1 + 30\n",
    "                color = \"black\" if self.grid.is_black(row, col) else \"white\"\n",
    "                self.canvas.create_rectangle(x1, y1, x2, y2, fill=color)\n"
   ]
  },
  {
   "cell_type": "markdown",
   "metadata": {},
   "source": [
    "**5** Exemple d'utilisation de la classe GridGUI :\n",
    "Crée une fenêtre Tkinter et dessine la grille graphiquement à l'aide de la classe GridGUI."
   ]
  },
  {
   "cell_type": "code",
   "execution_count": null,
   "metadata": {},
   "outputs": [],
   "source": [
    "root = tk.Tk()\n",
    "grid_gui = GridGUI(root, grid)\n",
    "grid_gui.draw_grid()\n",
    "root.mainloop()"
   ]
  },
  {
   "cell_type": "markdown",
   "metadata": {},
   "source": [
    "# Partie **2**"
   ]
  }
 ],
 "metadata": {
  "kernelspec": {
   "display_name": "Python 3",
   "language": "python",
   "name": "python3"
  },
  "language_info": {
   "name": "python",
   "version": "3.12.2"
  }
 },
 "nbformat": 4,
 "nbformat_minor": 2
}
